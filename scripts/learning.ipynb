{
 "cells": [
  {
   "cell_type": "code",
   "execution_count": null,
   "metadata": {},
   "outputs": [],
   "source": [
    "import pandas as pd, numpy as np\n",
    "import matplotlib.pyplot as plt\n",
    "import seaborn as sns\n",
    "from matplotlib.ticker import FormatStrFormatter\n",
    "from solve_network import palette"
   ]
  },
  {
   "cell_type": "code",
   "execution_count": null,
   "metadata": {},
   "outputs": [],
   "source": [
    "if __name__ == \"__main__\":\n",
    "    # Detect running outside of snakemake and mock snakemake for testing\n",
    "    if \"snakemake\" not in globals():\n",
    "        from _helpers import mock_snakemake\n",
    "\n",
    "        snakemake = mock_snakemake(\n",
    "            \"plot_summary\", year=\"2030\", zone=\"IE\", palette=\"p3\", policy=\"cfe100\"\n",
    "        )\n",
    "\n",
    "    config = snakemake.config\n",
    "    scaling = int(config[\"time_sampling\"][0])  # temporal scaling -- 3/1 for 3H/1H\n",
    "\n",
    "    # Wildcards & Settings\n",
    "    policy = snakemake.wildcards.policy[:3]\n",
    "    penetration = float(snakemake.wildcards.policy[3:]) / 100 if policy != \"ref\" else 0\n",
    "    tech_palette = snakemake.wildcards.palette\n",
    "    zone = snakemake.wildcards.zone\n",
    "    year = snakemake.wildcards.year\n",
    "\n",
    "    datacenters = snakemake.config[\"ci\"][\"datacenters\"]\n",
    "    locations = list(datacenters.keys())\n",
    "    names = list(datacenters.values())\n",
    "    flexibilities = snakemake.config[\"ci\"][\"flexibility\"]\n",
    "\n",
    "    # techs for CFE hourly matching, extracted from palette\n",
    "    palette_techs = palette(tech_palette)\n",
    "\n",
    "    (\n",
    "        clean_techs,\n",
    "        storage_techs,\n",
    "        storage_charge_techs,\n",
    "        storage_discharge_techs,\n",
    "    ) = palette_techs\n",
    "\n",
    "    # renaming technologies for plotting\n",
    "    clean_chargers = [tech.replace(\" \", \"_\") for tech in storage_charge_techs]\n",
    "    clean_dischargers = [tech.replace(\" \", \"_\") for tech in storage_discharge_techs]\n",
    "\n",
    "    def tech_names(base_names, year):\n",
    "        return [f\"{name.replace(' ', '_')}-{year}\" for name in base_names]\n",
    "\n",
    "    # expected technology names with year\n",
    "    exp_generators = tech_names([\"offwind-ac\", \"offwind-dc\", \"onwind\", \"solar\"], year)\n",
    "    exp_links = tech_names([\"OCGT\"], year)\n",
    "    exp_chargers = tech_names([\"battery charger\", \"H2 Electrolysis\"], year)\n",
    "    exp_dischargers = tech_names([\"battery discharger\", \"H2 Fuel Cell\"], year)\n",
    "\n",
    "    # Assign colors\n",
    "    tech_colors = snakemake.config[\"tech_colors\"]\n",
    "\n",
    "    # Rename mappings\n",
    "    rename_ci_cost = pd.Series(\n",
    "        {\n",
    "            \"onwind\": \"onshore wind\",\n",
    "            \"solar\": \"solar\",\n",
    "            \"grid\": \"grid imports\",\n",
    "            \"revenue\": \"revenue\",\n",
    "            \"battery_storage\": \"battery\",\n",
    "            \"battery_inverter\": \"battery\",\n",
    "            \"battery_discharger\": \"battery\",\n",
    "            \"hydrogen_storage\": \"hydrogen storage\",\n",
    "            \"hydrogen_electrolysis\": \"hydrogen storage\",\n",
    "            \"hydrogen_fuel_cell\": \"hydrogen storage\",\n",
    "            \"adv_geothermal\": \"advanced dispatchable\",\n",
    "            \"allam_ccs\": \"NG-Allam\",\n",
    "        }\n",
    "    )\n",
    "\n",
    "    rename_ci_capacity = pd.Series(\n",
    "        {\n",
    "            \"onwind\": \"onshore wind\",\n",
    "            \"solar\": \"solar\",\n",
    "            \"battery_discharger\": \"battery\",\n",
    "            \"H2_Fuel_Cell\": \"hydrogen fuel cell\",\n",
    "            \"H2_Electrolysis\": \"hydrogen electrolysis\",\n",
    "            \"adv_geothermal\": \"advanced dispatchable\",\n",
    "            \"allam_ccs\": \"NG-Allam\",\n",
    "        }\n",
    "    )\n",
    "\n",
    "    rename_scen = {\n",
    "        \"0\": \"0%\",\n",
    "        \"10\": \"10%\",\n",
    "        \"25\": \"25%\",\n",
    "    }\n",
    "\n",
    "    preferred_order = pd.Index(\n",
    "        [\n",
    "            \"advanced dispatchable\",\n",
    "            \"NG-Allam\",\n",
    "            \"Gas OC\",\n",
    "            \"offshore wind\",\n",
    "            \"onshore wind\",\n",
    "            \"solar\",\n",
    "            \"battery\",\n",
    "            \"hydrogen storage\",\n",
    "            \"hydrogen electrolysis\",\n",
    "            \"hydrogen fuel cell\",\n",
    "        ]\n",
    "    )"
   ]
  },
  {
   "cell_type": "markdown",
   "metadata": {},
   "source": [
    "## Data Preparation"
   ]
  },
  {
   "cell_type": "code",
   "execution_count": null,
   "metadata": {},
   "outputs": [],
   "source": [
    "df = pd.read_csv(snakemake.input.summary, index_col=0, header=[0, 1])"
   ]
  },
  {
   "cell_type": "code",
   "execution_count": null,
   "metadata": {},
   "outputs": [],
   "source": [
    "ldf = pd.concat(\n",
    "    [\n",
    "        df.loc[[\"ci_cap_\" + t.replace(\" \", \"_\") for t in clean_techs]].rename(\n",
    "            {\"ci_cap_\" + t: t for t in clean_techs}\n",
    "        ),\n",
    "        df.loc[[\"ci_cap_\" + t.replace(\" \", \"_\") for t in clean_dischargers]].rename(\n",
    "            {\"ci_cap_\" + t: t for t in clean_dischargers}\n",
    "        ),\n",
    "        df.loc[[\"ci_cap_\" + t.replace(\" \", \"_\") for t in clean_chargers]]\n",
    "        .rename({\"ci_cap_\" + t: t for t in clean_chargers})\n",
    "        .drop([\"battery_charger\"]),\n",
    "    ]\n",
    ")\n",
    "\n",
    "# Drop rows with all values less than 0.1\n",
    "to_drop = ldf.index[(ldf < 0.1).all(axis=1)]\n",
    "ldf.drop(to_drop, inplace=True)\n",
    "\n",
    "# Rename columns and indices\n",
    "ldf.rename(columns=rename_scen, level=0, inplace=True)\n",
    "ldf.rename(index=rename_ci_capacity, level=0, inplace=True)\n",
    "\n",
    "# Reorder and sort the final DataFrame\n",
    "new_index = preferred_order.intersection(ldf.index).append(\n",
    "    ldf.index.difference(preferred_order)\n",
    ")\n",
    "ldf = ldf.loc[new_index].sort_index(\n",
    "    axis=\"columns\", level=[1, 0], ascending=[False, True]\n",
    ")"
   ]
  },
  {
   "cell_type": "code",
   "execution_count": null,
   "metadata": {},
   "outputs": [],
   "source": [
    "ldf"
   ]
  },
  {
   "cell_type": "code",
   "execution_count": null,
   "metadata": {},
   "outputs": [],
   "source": [
    "E = ldf.xs(\"NG-Allam\").xs(\"IE5 0\", level=1)\n",
    "type(E)\n",
    "E"
   ]
  },
  {
   "cell_type": "markdown",
   "metadata": {},
   "source": [
    "# Learning curve"
   ]
  },
  {
   "cell_type": "code",
   "execution_count": null,
   "metadata": {},
   "outputs": [],
   "source": [
    "def experience_curve(E, C0, E0, LR):\n",
    "    \"\"\"\n",
    "    Calculate the investment cost c as a function of experience E.\n",
    "\n",
    "    Parameters (all float):\n",
    "    E: Invested capacity (updated experience) in MW.\n",
    "    C0: The initial investment costs when experience E is E0 in EUR/MW.\n",
    "    E0: Initial capacity (initial experience) in MW.\n",
    "    LR: The learning rate, i.e., the percentage cost reduction for each doubling of cumulative experience.\n",
    "\n",
    "    Returns (also float):\n",
    "    alpha: The experience exponent\n",
    "    c(E): The investment cost c for the given capacity (E + E0).\n",
    "    \"\"\"\n",
    "\n",
    "    alpha = np.log2(1 / (1 - LR))\n",
    "\n",
    "    c = C0 * ((E + E0) / E0) ** (-alpha)\n",
    "\n",
    "    return round(alpha, 3), c"
   ]
  },
  {
   "cell_type": "code",
   "execution_count": null,
   "metadata": {},
   "outputs": [],
   "source": [
    "C0 = 2500  # EUR/kW\n",
    "E0 = 500  # MW\n",
    "LR = 0.2  # 20%"
   ]
  },
  {
   "cell_type": "markdown",
   "metadata": {},
   "source": [
    "### (sketch) Results for CFE score = 100% and C&I consumers in Ireland "
   ]
  },
  {
   "cell_type": "code",
   "execution_count": null,
   "metadata": {},
   "outputs": [],
   "source": [
    "E"
   ]
  },
  {
   "cell_type": "code",
   "execution_count": null,
   "metadata": {},
   "outputs": [],
   "source": [
    "experience_curve(E, C0=2500, E0=500, LR=0.2)"
   ]
  },
  {
   "cell_type": "code",
   "execution_count": null,
   "metadata": {},
   "outputs": [],
   "source": [
    "experience_curve(E, C0=2500, E0=1000, LR=0.2)"
   ]
  },
  {
   "cell_type": "code",
   "execution_count": null,
   "metadata": {},
   "outputs": [],
   "source": [
    "experience_curve(E, C0=2500, E0=1000, LR=0.1)"
   ]
  },
  {
   "cell_type": "markdown",
   "metadata": {},
   "source": [
    "### (sketch) Results for CFE score = 100% and C&I consumers in Germany "
   ]
  },
  {
   "cell_type": "code",
   "execution_count": null,
   "metadata": {},
   "outputs": [],
   "source": [
    "E_germany = E * 38410 / 2200\n",
    "E_germany"
   ]
  },
  {
   "cell_type": "code",
   "execution_count": null,
   "metadata": {},
   "outputs": [],
   "source": [
    "experience_curve(E=E_germany, C0=2500, E0=500, LR=0.2)"
   ]
  },
  {
   "cell_type": "code",
   "execution_count": null,
   "metadata": {},
   "outputs": [],
   "source": [
    "experience_curve(E=E_germany, C0=2500, E0=1000, LR=0.2)"
   ]
  },
  {
   "cell_type": "code",
   "execution_count": null,
   "metadata": {},
   "outputs": [],
   "source": [
    "experience_curve(E=E_germany, C0=2500, E0=1000, LR=0.1)"
   ]
  },
  {
   "cell_type": "code",
   "execution_count": null,
   "metadata": {},
   "outputs": [],
   "source": [
    "# to get CCGT parity\n",
    "experience_curve(E=2e4, C0=2500, E0=500, LR=0.2)"
   ]
  },
  {
   "cell_type": "code",
   "execution_count": null,
   "metadata": {},
   "outputs": [],
   "source": []
  }
 ],
 "metadata": {
  "kernelspec": {
   "display_name": "",
   "language": "python",
   "name": ""
  },
  "language_info": {
   "codemirror_mode": {
    "name": "ipython",
    "version": 3
   },
   "file_extension": ".py",
   "mimetype": "text/x-python",
   "name": "python",
   "nbconvert_exporter": "python",
   "pygments_lexer": "ipython3",
   "version": "3.11.0"
  }
 },
 "nbformat": 4,
 "nbformat_minor": 2
}
